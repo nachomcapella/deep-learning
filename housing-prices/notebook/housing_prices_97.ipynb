{
  "nbformat": 4,
  "nbformat_minor": 0,
  "metadata": {
    "colab": {
      "name": "housing_prices.ipynb",
      "provenance": [],
      "collapsed_sections": []
    },
    "kernelspec": {
      "name": "python3",
      "display_name": "Python 3"
    },
    "accelerator": "GPU"
  },
  "cells": [
    {
      "cell_type": "markdown",
      "metadata": {
        "id": "Uv5BX-QdqVcN",
        "colab_type": "text"
      },
      "source": [
        "# 1. Prepare the environment for Python 3 with Tensorflow and Keras"
      ]
    },
    {
      "cell_type": "code",
      "metadata": {
        "id": "cgMqJJohqM5J",
        "colab_type": "code",
        "outputId": "daddd60a-01d0-4d6f-c9c5-d68ad7483b13",
        "colab": {
          "base_uri": "https://localhost:8080/",
          "height": 73
        }
      },
      "source": [
        "#Print Python's version:\n",
        "!python --version\n",
        "\n",
        "#Import Tensorflow and Keras:\n",
        "%tensorflow_version 1.x\n",
        "import tensorflow as tf\n",
        "import keras"
      ],
      "execution_count": 1,
      "outputs": [
        {
          "output_type": "stream",
          "text": [
            "Python 3.6.9\n",
            "TensorFlow 1.x selected.\n"
          ],
          "name": "stdout"
        },
        {
          "output_type": "stream",
          "text": [
            "Using TensorFlow backend.\n"
          ],
          "name": "stderr"
        }
      ]
    },
    {
      "cell_type": "markdown",
      "metadata": {
        "id": "tgGENPwZq90Z",
        "colab_type": "text"
      },
      "source": [
        "# 2. Download and prepare the data"
      ]
    },
    {
      "cell_type": "code",
      "metadata": {
        "id": "_ma1u1S__ZHK",
        "colab_type": "code",
        "outputId": "55afd9d0-53cc-409d-ff23-1064f984c833",
        "colab": {
          "base_uri": "https://localhost:8080/",
          "height": 56
        }
      },
      "source": [
        "from google.colab import drive\n",
        "drive.mount('/content/drive')"
      ],
      "execution_count": 2,
      "outputs": [
        {
          "output_type": "stream",
          "text": [
            "Drive already mounted at /content/drive; to attempt to forcibly remount, call drive.mount(\"/content/drive\", force_remount=True).\n"
          ],
          "name": "stdout"
        }
      ]
    },
    {
      "cell_type": "code",
      "metadata": {
        "id": "1wlUvY2nrzBr",
        "colab_type": "code",
        "outputId": "ac03fe5f-6e70-476b-bda2-467985e8e4fa",
        "colab": {
          "base_uri": "https://localhost:8080/",
          "height": 110
        }
      },
      "source": [
        "#Obtain the attributes and the labels:\n",
        "import pandas as pd\n",
        "attributes = pd.read_csv(\"/content/drive/My Drive/Masters/First Year - Madrid/Deep Learning/OceanProximityPreparedCleanAttributes.csv\")\n",
        "labels = pd.read_csv(\"/content/drive/My Drive/Masters/First Year - Madrid/Deep Learning/OceanProximityOneHotEncodedClasses.csv\")\n",
        "print(attributes.columns)\n",
        "print(labels.columns)"
      ],
      "execution_count": 3,
      "outputs": [
        {
          "output_type": "stream",
          "text": [
            "Index(['longitude', 'latitude', 'housing_median_age', 'total_rooms',\n",
            "       'total_bedrooms', 'population', 'households', 'median_income',\n",
            "       'median_house_value'],\n",
            "      dtype='object')\n",
            "Index(['<1H OCEAN', 'INLAND', 'NEAR BAY', 'NEAR OCEAN'], dtype='object')\n"
          ],
          "name": "stdout"
        }
      ]
    },
    {
      "cell_type": "code",
      "metadata": {
        "id": "A8z39dh6tb7K",
        "colab_type": "code",
        "outputId": "0a39c505-ff5f-46ec-9385-2a38c5453318",
        "colab": {
          "base_uri": "https://localhost:8080/",
          "height": 260
        }
      },
      "source": [
        "#Data split:\n",
        "print(labels.head(10))\n",
        "#The data is already ramdomnized, so there is no doing for that.\n",
        "\n",
        "#Split the data in the following way:\n",
        "#80% -> training dataset\n",
        "#10% -> validation dataset\n",
        "#10% -> testing dataset\n",
        "l = labels.shape[0]\n",
        "print(l)\n",
        "training_instances = int(l*0.8)\n",
        "validation_instances = int(training_instances + l*0.1)\n",
        "\n",
        "tr_attributes = attributes[0:training_instances]\n",
        "tr_labels = labels[0:training_instances]\n",
        "val_attributes = attributes[training_instances:validation_instances]\n",
        "val_labels = labels[training_instances:validation_instances]\n",
        "test_attributes = attributes[validation_instances:]\n",
        "test_labels = labels[validation_instances:]\n",
        "print(\"Data split done!\")"
      ],
      "execution_count": 4,
      "outputs": [
        {
          "output_type": "stream",
          "text": [
            "   <1H OCEAN  INLAND  NEAR BAY  NEAR OCEAN\n",
            "0        0.0     0.0       0.0         1.0\n",
            "1        0.0     0.0       1.0         0.0\n",
            "2        0.0     1.0       0.0         0.0\n",
            "3        1.0     0.0       0.0         0.0\n",
            "4        0.0     0.0       0.0         1.0\n",
            "5        0.0     1.0       0.0         0.0\n",
            "6        1.0     0.0       0.0         0.0\n",
            "7        1.0     0.0       0.0         0.0\n",
            "8        0.0     1.0       0.0         0.0\n",
            "9        1.0     0.0       0.0         0.0\n",
            "20428\n",
            "Data split done!\n"
          ],
          "name": "stdout"
        }
      ]
    },
    {
      "cell_type": "markdown",
      "metadata": {
        "id": "gPIvCBJ3HrHz",
        "colab_type": "text"
      },
      "source": [
        "# 3. The Neural Network"
      ]
    },
    {
      "cell_type": "code",
      "metadata": {
        "id": "4tUsre29IdqL",
        "colab_type": "code",
        "outputId": "7240ce75-04f8-49fd-a334-b9d1c4fbfb2b",
        "colab": {
          "base_uri": "https://localhost:8080/",
          "height": 764
        }
      },
      "source": [
        "from keras.models import Sequential\n",
        "from keras.layers import Dense, Dropout, Activation, Flatten, BatchNormalization\n",
        "from keras import optimizers\n",
        "\n",
        "input_shape = tr_attributes.shape[1]\n",
        "num_classes = tr_labels.shape[1]\n",
        "\n",
        "mlp = Sequential() \n",
        "\n",
        "mlp.add(Dense(50, input_shape = (input_shape,)))\n",
        "mlp.add(Activation('relu'))\n",
        "\n",
        "mlp.add(Dense(2000))\n",
        "mlp.add(Activation('relu'))\n",
        "mlp.add(Dropout(0.5))\n",
        "\n",
        "mlp.add(Dense(1000))\n",
        "mlp.add(Activation('relu'))\n",
        "mlp.add(Dropout(0.5))\n",
        "\n",
        "mlp.add(Dense(750))\n",
        "mlp.add(Activation('relu'))\n",
        "mlp.add(Dropout(0.5))\n",
        "\n",
        "mlp.add(Dense(250))\n",
        "mlp.add(Activation('relu'))\n",
        "mlp.add(Dropout(0.5))\n",
        "\n",
        "mlp.add(Dense(num_classes))\n",
        "mlp.add(Activation('softmax'))\n",
        "\n",
        "opt = optimizers.SGD(lr=0.01, decay=1e-6, momentum=0.9, nesterov=True)\n",
        "\n",
        "mlp.compile(optimizer=opt, loss='categorical_crossentropy', metrics=['accuracy'])\n",
        "mlp.summary()"
      ],
      "execution_count": 15,
      "outputs": [
        {
          "output_type": "stream",
          "text": [
            "Model: \"sequential_7\"\n",
            "_________________________________________________________________\n",
            "Layer (type)                 Output Shape              Param #   \n",
            "=================================================================\n",
            "dense_34 (Dense)             (None, 50)                500       \n",
            "_________________________________________________________________\n",
            "activation_34 (Activation)   (None, 50)                0         \n",
            "_________________________________________________________________\n",
            "dense_35 (Dense)             (None, 2000)              102000    \n",
            "_________________________________________________________________\n",
            "activation_35 (Activation)   (None, 2000)              0         \n",
            "_________________________________________________________________\n",
            "dropout_25 (Dropout)         (None, 2000)              0         \n",
            "_________________________________________________________________\n",
            "dense_36 (Dense)             (None, 1000)              2001000   \n",
            "_________________________________________________________________\n",
            "activation_36 (Activation)   (None, 1000)              0         \n",
            "_________________________________________________________________\n",
            "dropout_26 (Dropout)         (None, 1000)              0         \n",
            "_________________________________________________________________\n",
            "dense_37 (Dense)             (None, 750)               750750    \n",
            "_________________________________________________________________\n",
            "activation_37 (Activation)   (None, 750)               0         \n",
            "_________________________________________________________________\n",
            "dropout_27 (Dropout)         (None, 750)               0         \n",
            "_________________________________________________________________\n",
            "dense_38 (Dense)             (None, 250)               187750    \n",
            "_________________________________________________________________\n",
            "activation_38 (Activation)   (None, 250)               0         \n",
            "_________________________________________________________________\n",
            "dropout_28 (Dropout)         (None, 250)               0         \n",
            "_________________________________________________________________\n",
            "dense_39 (Dense)             (None, 4)                 1004      \n",
            "_________________________________________________________________\n",
            "activation_39 (Activation)   (None, 4)                 0         \n",
            "=================================================================\n",
            "Total params: 3,043,004\n",
            "Trainable params: 3,043,004\n",
            "Non-trainable params: 0\n",
            "_________________________________________________________________\n"
          ],
          "name": "stdout"
        }
      ]
    },
    {
      "cell_type": "code",
      "metadata": {
        "id": "-jjqTjP5KFY1",
        "colab_type": "code",
        "outputId": "4e75a153-8ce4-47ca-b1bb-dd1b54088769",
        "colab": {
          "base_uri": "https://localhost:8080/",
          "height": 54
        }
      },
      "source": [
        "from time import time\n",
        "import matplotlib.pyplot as plt\n",
        "%matplotlib inline \n",
        "\n",
        "data = mlp.fit(tr_attributes,\n",
        "               tr_labels,\n",
        "               batch_size=2048, \n",
        "               epochs=4096,\n",
        "               verbose=0,\n",
        "               validation_data=(val_attributes, val_labels))\n",
        "\n",
        "start = time()\n",
        "loss, acc = mlp.evaluate(test_attributes, test_labels, verbose=0)\n",
        "end = time()\n",
        "print('ffNN took ' + str(end - start) + ' seconds')\n",
        "print('Test loss: ' + str(loss) + ' - Accuracy: ' + str(acc))"
      ],
      "execution_count": 16,
      "outputs": [
        {
          "output_type": "stream",
          "text": [
            "ffNN took 0.06770658493041992 seconds\n",
            "Test loss: 0.08452924879253232 - Accuracy: 0.9711350290042781\n"
          ],
          "name": "stdout"
        }
      ]
    },
    {
      "cell_type": "code",
      "metadata": {
        "id": "kJqvLx_3-thY",
        "colab_type": "code",
        "outputId": "c2a2e067-946c-42e6-a086-ca60861f0f4c",
        "colab": {
          "base_uri": "https://localhost:8080/",
          "height": 648
        }
      },
      "source": [
        "plt.plot(data.history['acc'])\n",
        "plt.plot(data.history['val_acc'])\n",
        "plt.title('Model accuracy')\n",
        "plt.ylabel('Accuracy')\n",
        "plt.xlabel('Epoch')\n",
        "plt.legend(['Train', 'Val'], loc='upper left')\n",
        "plt.show()\n",
        "\n",
        "plt.plot(data.history['loss'])\n",
        "plt.plot(data.history['val_loss'])\n",
        "plt.title('Mean Log Loss')\n",
        "plt.ylabel('Log Loss')\n",
        "plt.xlabel('Epoch')\n",
        "plt.legend(['Train', 'Val'], loc='upper left')\n",
        "plt.show()\n",
        "\n",
        "labels = tf.argmax(test_labels, axis = 1)\n",
        "predictions=mlp.predict_classes(test_attributes)\n",
        "confusion_matrix = tf.confusion_matrix(labels=labels, predictions=predictions, num_classes=num_classes)\n",
        "with tf.Session() as sess:\n",
        "    print(confusion_matrix.eval())"
      ],
      "execution_count": 17,
      "outputs": [
        {
          "output_type": "display_data",
          "data": {
            "image/png": "[encoded data removed]",
            "text/plain": [
              "<Figure size 432x288 with 1 Axes>"
            ]
          },
          "metadata": {
            "tags": []
          }
        },
        {
          "output_type": "display_data",
          "data": {
            "image/png": "[encoded data removed]",
            "text/plain": [
              "<Figure size 432x288 with 1 Axes>"
            ]
          },
          "metadata": {
            "tags": []
          }
        },
        {
          "output_type": "stream",
          "text": [
            "[[910   4   1   7]\n",
            " [ 12 613   1   0]\n",
            " [  1   0 223   1]\n",
            " [ 26   0   6 239]]\n"
          ],
          "name": "stdout"
        }
      ]
    }
  ]
}